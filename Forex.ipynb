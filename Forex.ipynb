{
  "nbformat": 4,
  "nbformat_minor": 0,
  "metadata": {
    "colab": {
      "name": "Forex.ipynb",
      "provenance": [],
      "collapsed_sections": []
    },
    "kernelspec": {
      "name": "python3",
      "display_name": "Python 3"
    },
    "language_info": {
      "name": "python"
    }
  },
  "cells": [
    {
      "cell_type": "code",
      "execution_count": 9,
      "metadata": {
        "id": "f9KBfbc_31lN"
      },
      "outputs": [],
      "source": [
        "#Importing the Libraries\n",
        "import pandas as pd\n",
        "import numpy as np\n",
        "%matplotlib inline\n",
        "import matplotlib.pyplot as plt\n",
        "from tensorflow import keras\n",
        "#from tensorflow.keras import layers\n",
        "import matplotlib\n",
        "from sklearn.preprocessing import MinMaxScaler\n",
        "from keras.layers import LSTM, Dense, Dropout\n",
        "from sklearn.model_selection import TimeSeriesSplit\n",
        "from sklearn.metrics import mean_squared_error, r2_score\n",
        "import matplotlib. dates as mandates\n",
        "from sklearn.preprocessing import MinMaxScaler\n",
        "from sklearn import linear_model\n",
        "from keras.models import Sequential\n",
        "from keras.layers import Dense\n",
        "import keras.backend as K\n",
        "from keras.callbacks import EarlyStopping\n",
        "#from keras.optimizers import Adam\n",
        "from keras.models import load_model\n",
        "from keras.layers import LSTM\n",
        "from keras.utils.vis_utils import plot_model\n"
      ]
    }
  ]
}